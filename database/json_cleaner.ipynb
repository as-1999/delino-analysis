{
 "cells": [
  {
   "cell_type": "code",
   "execution_count": 3,
   "metadata": {},
   "outputs": [],
   "source": [
    "import os, json"
   ]
  },
  {
   "cell_type": "code",
   "execution_count": 3,
   "metadata": {},
   "outputs": [],
   "source": [
    "file = os.path.abspath(\"data3.json\")\n",
    "json_data = open(file).read()\n",
    "json_obj = json.loads(json_data)"
   ]
  },
  {
   "cell_type": "code",
   "execution_count": 9,
   "metadata": {},
   "outputs": [
    {
     "name": "stdout",
     "output_type": "stream",
     "text": [
      "The percentage of the right keys in the title is:  100.0\n",
      "The percentage of the right keys in the address is:  100.0\n",
      "The percentage of the right keys in the coordinates is:  100.0\n",
      "The percentage of the right keys in the rate is:  100.0\n",
      "The percentage of the right keys in the total_reviews is:  100.0\n",
      "The percentage of the right keys in the id is:  100.0\n",
      "The percentage of the right keys in the menu is:  100.0\n",
      "The percentage of the right keys in the overall_summary is:  100.0\n",
      "The percentage of the right keys in the service_hours_table is:  100.0\n",
      "The percentage of the right keys in the types is:  100.0\n",
      "The percentage of the right keys in the city is:  100.0\n",
      "The percentage of the right keys in the district is:  100.0\n",
      "The percentage of the right keys in the delivery_time is:  100.0\n",
      "The percentage of the right keys in the link is:  100.0\n",
      "The number of missed keys in address is:  0\n",
      "The number of missed keys in coordinates is:  0\n",
      "The number of missed keys in service_hours_table is:  0\n",
      "The number of missed keys in types is:  0\n"
     ]
    }
   ],
   "source": [
    "title_right = 0\n",
    "title_wrong = 0\n",
    "city_right = 0\n",
    "city_wrong = 0\n",
    "district_right = 0\n",
    "district_wrong = 0\n",
    "delivery_time_right = 0\n",
    "delivery_time_wrong = 0\n",
    "link_right = 0\n",
    "link_wrong = 0\n",
    "address_right = 0\n",
    "address_wrong = 0\n",
    "coordinates_right = 0\n",
    "coordinates_wrong = 0\n",
    "rate_right = 0\n",
    "rate_wrong = 0\n",
    "total_reviews_right = 0\n",
    "total_reviews_wrong = 0\n",
    "id_right = 0\n",
    "id_wrong = 0\n",
    "menu_right = 0\n",
    "menu_wrong = 0\n",
    "overall_summary_right = 0\n",
    "overall_summary_wrong = 0\n",
    "service_hours_table_right = 0\n",
    "service_hours_table_wrong = 0\n",
    "types_right = 0\n",
    "types_wrong = 0\n",
    "\n",
    "for item in json_obj[\"items\"]:\n",
    "    if \"title\" in item:\n",
    "        title_right += 1\n",
    "    if \"title\" not in item:\n",
    "        title_wrong += 1\n",
    "    if \"address\" in item:\n",
    "        address_right += 1\n",
    "    if \"address\" not in item:\n",
    "        address_wrong += 1\n",
    "    if \"coordinates\" in item:\n",
    "        coordinates_right += 1\n",
    "    if \"coordinates\" not in item:\n",
    "        coordinates_wrong += 1\n",
    "    if \"rate\" in item:\n",
    "        rate_right += 1\n",
    "    if \"rate\" not in item:\n",
    "        rate_wrong += 1\n",
    "    if \"total_reviews\" in item:\n",
    "        total_reviews_right += 1\n",
    "    if \"total_reviews\" not in item:\n",
    "        total_reviews_wrong += 1\n",
    "    if \"id\" in item:\n",
    "        id_right += 1\n",
    "    if \"id\" not in item:\n",
    "        id_wrong += 1\n",
    "    if \"menu\" in item:\n",
    "        menu_right += 1\n",
    "    if \"menu\" not in item:\n",
    "        menu_wrong += 1\n",
    "    if \"overall_summary\" in item:\n",
    "        overall_summary_right += 1\n",
    "    if \"overall_summary\" not in item:\n",
    "        overall_summary_wrong += 1\n",
    "    if \"service_hours_table\" in item:\n",
    "        service_hours_table_right += 1\n",
    "    if \"service_hours_table\" not in item:\n",
    "        service_hours_table_wrong += 1\n",
    "    if \"types\" in item:\n",
    "        types_right += 1\n",
    "    if \"types\" not in item:\n",
    "        types_wrong += 1\n",
    "    if \"city\" in item:\n",
    "        city_right += 1\n",
    "    if \"city\" not in item:\n",
    "        city_wrong += 1\n",
    "    if \"district\" in item:\n",
    "        district_right += 1\n",
    "    if \"district\" not in item:\n",
    "        district_wrong += 1\n",
    "    if \"delivery_time\" in item:\n",
    "        delivery_time_right += 1\n",
    "    if \"delivery_time\" not in item:\n",
    "        delivery_time_wrong += 1\n",
    "    if \"link\" in item:\n",
    "        link_right += 1\n",
    "    if \"link\" not in item:\n",
    "        link_wrong += 1\n",
    "\n",
    "title = (title_right/ (title_right + title_wrong))*100\n",
    "address = (address_right/ (address_right + address_wrong))*100\n",
    "coordinates = (coordinates_right/ (coordinates_right + coordinates_wrong))*100\n",
    "rate = (rate_right/ (rate_right + rate_wrong))*100\n",
    "total_reviews = (total_reviews_right/ (total_reviews_right + total_reviews_wrong))*100\n",
    "id = (id_right/ (id_right + id_wrong))*100\n",
    "menu = (menu_right/ (menu_right + menu_wrong))*100\n",
    "overall_summary = (overall_summary_right/ (overall_summary_right + overall_summary_wrong))*100\n",
    "service_hours_table = (service_hours_table_right/ (service_hours_table_right + service_hours_table_wrong))*100\n",
    "types = (types_right/ (types_right + types_wrong))*100\n",
    "city = (city_right/ (city_right + city_wrong))*100\n",
    "district = (district_right/ (district_right + district_wrong))*100\n",
    "delivery_time = (delivery_time_right/ (delivery_time_right + delivery_time_wrong))*100\n",
    "link = (link_right/ (link_right + link_wrong))*100\n",
    "\n",
    "print(\"The percentage of the right keys in the title is: \", title)\n",
    "print(\"The percentage of the right keys in the address is: \", address)\n",
    "print(\"The percentage of the right keys in the coordinates is: \", coordinates)\n",
    "print(\"The percentage of the right keys in the rate is: \", rate)\n",
    "print(\"The percentage of the right keys in the total_reviews is: \", total_reviews)\n",
    "print(\"The percentage of the right keys in the id is: \", id)\n",
    "print(\"The percentage of the right keys in the menu is: \", menu)\n",
    "print(\"The percentage of the right keys in the overall_summary is: \", overall_summary)\n",
    "print(\"The percentage of the right keys in the service_hours_table is: \", service_hours_table)\n",
    "print(\"The percentage of the right keys in the types is: \", types)\n",
    "print(\"The percentage of the right keys in the city is: \", city)\n",
    "print(\"The percentage of the right keys in the district is: \", district)\n",
    "print(\"The percentage of the right keys in the delivery_time is: \", delivery_time)\n",
    "print(\"The percentage of the right keys in the link is: \", link)\n",
    "\n",
    "print(\"The number of missed keys in address is: \", address_wrong)\n",
    "print(\"The number of missed keys in coordinates is: \", coordinates_wrong)\n",
    "print(\"The number of missed keys in service_hours_table is: \", service_hours_table_wrong)\n",
    "print(\"The number of missed keys in types is: \", types_wrong)\n"
   ]
  },
  {
   "cell_type": "code",
   "execution_count": 5,
   "metadata": {},
   "outputs": [],
   "source": [
    "#deleting the items without title key from json file and saving it in a new file\n",
    "for item in json_obj[\"items\"]:\n",
    "    if \"address\" not in item:\n",
    "        json_obj[\"items\"].remove(item)\n",
    "\n",
    "with open('new.json', 'w') as f:\n",
    "    json.dump(json_obj, f)"
   ]
  },
  {
   "cell_type": "code",
   "execution_count": 4,
   "metadata": {},
   "outputs": [],
   "source": [
    "file = os.path.abspath(\"new.json\")\n",
    "json_data = open(file).read()\n",
    "json_obj = json.loads(json_data)"
   ]
  },
  {
   "cell_type": "code",
   "execution_count": 7,
   "metadata": {},
   "outputs": [],
   "source": [
    "for item in json_obj[\"items\"]:\n",
    "    if \"service_hours_table\" not in item:\n",
    "        json_obj[\"items\"].remove(item)\n",
    "\n",
    "with open('new.json', 'w') as f:\n",
    "    json.dump(json_obj, f)"
   ]
  },
  {
   "cell_type": "code",
   "execution_count": 5,
   "metadata": {},
   "outputs": [],
   "source": [
    "for item in json_obj[\"items\"]:\n",
    "    if item[\"coordinates\"] == None:\n",
    "        json_obj[\"items\"].remove(item)\n",
    "\n",
    "with open('new.json', 'w') as f:\n",
    "    json.dump(json_obj, f)"
   ]
  }
 ],
 "metadata": {
  "kernelspec": {
   "display_name": "Python 3",
   "language": "python",
   "name": "python3"
  },
  "language_info": {
   "codemirror_mode": {
    "name": "ipython",
    "version": 3
   },
   "file_extension": ".py",
   "mimetype": "text/x-python",
   "name": "python",
   "nbconvert_exporter": "python",
   "pygments_lexer": "ipython3",
   "version": "3.10.9"
  },
  "orig_nbformat": 4,
  "vscode": {
   "interpreter": {
    "hash": "e897f0676b185ac58fdef5d15caf12b36f55050acef5c3897f1ea1504ac8e199"
   }
  }
 },
 "nbformat": 4,
 "nbformat_minor": 2
}
