{
 "cells": [
  {
   "cell_type": "code",
   "execution_count": 1,
   "metadata": {},
   "outputs": [],
   "source": [
    "import pymysql\n",
    "import pandas as pd\n",
    "import os\n",
    "import json\n",
    "import mysql.connector"
   ]
  },
  {
   "cell_type": "code",
   "execution_count": 2,
   "metadata": {},
   "outputs": [],
   "source": [
    "con = pymysql.connect(\n",
    "    host = 'host_name',\n",
    "    user = 'user_name',\n",
    "    passwd = 'password',\n",
    "    db = 'db_name')\n",
    "cursor = con.cursor()"
   ]
  },
  {
   "cell_type": "code",
   "execution_count": 3,
   "metadata": {},
   "outputs": [],
   "source": [
    "file = os.path.abspath(\"new.json\")\n",
    "json_data = open(file).read()\n",
    "json_obj = json.loads(json_data)"
   ]
  },
  {
   "cell_type": "code",
   "execution_count": 4,
   "metadata": {},
   "outputs": [
    {
     "data": {
      "text/plain": [
       "0"
      ]
     },
     "execution_count": 4,
     "metadata": {},
     "output_type": "execute_result"
    }
   ],
   "source": [
    "cursor.execute(\"CREATE TABLE IF NOT EXISTS rates (id NVARCHAR(64), FOREIGN KEY (id) REFERENCES main(id), rate FLOAT(10), total_reviews INT(64), good INT(64), neutral INT(64), bad INT(64))\")"
   ]
  },
  {
   "cell_type": "code",
   "execution_count": 5,
   "metadata": {},
   "outputs": [],
   "source": [
    "for data_item in json_obj[\"items\"]:\n",
    "    id = data_item[\"id\"]\n",
    "    rate = data_item[\"rate\"]\n",
    "    total_reviews = data_item[\"total_reviews\"]\n",
    "    good = data_item[\"overall_summary\"][\"good\"]\n",
    "    neutral = data_item[\"overall_summary\"][\"neutral\"]\n",
    "    bad = data_item[\"overall_summary\"][\"bad\"]\n",
    "    cursor.execute(\"INSERT INTO rates (id, rate, total_reviews, good, neutral, bad) VALUES (%s, %s, %s, %s, %s, %s)\", (id, rate, total_reviews, good, neutral, bad))\n",
    "\n",
    "con.commit()"
   ]
  },
  {
   "cell_type": "code",
   "execution_count": 6,
   "metadata": {},
   "outputs": [
    {
     "data": {
      "text/plain": [
       "(('address',), ('main',), ('rates',))"
      ]
     },
     "execution_count": 6,
     "metadata": {},
     "output_type": "execute_result"
    }
   ],
   "source": [
    "cursor.execute(\"SHOW TABLES\")\n",
    "cursor.fetchall()"
   ]
  },
  {
   "cell_type": "code",
   "execution_count": 7,
   "metadata": {},
   "outputs": [
    {
     "name": "stderr",
     "output_type": "stream",
     "text": [
      "C:\\Users\\Fazel\\AppData\\Local\\Temp\\ipykernel_1824\\2391659925.py:1: UserWarning: pandas only supports SQLAlchemy connectable (engine/connection) or database string URI or sqlite3 DBAPI2 connection. Other DBAPI2 objects are not tested. Please consider using SQLAlchemy.\n",
      "  pd = pd.read_sql(\"SELECT * FROM rates\", con)\n"
     ]
    },
    {
     "data": {
      "text/html": [
       "<div>\n",
       "<style scoped>\n",
       "    .dataframe tbody tr th:only-of-type {\n",
       "        vertical-align: middle;\n",
       "    }\n",
       "\n",
       "    .dataframe tbody tr th {\n",
       "        vertical-align: top;\n",
       "    }\n",
       "\n",
       "    .dataframe thead th {\n",
       "        text-align: right;\n",
       "    }\n",
       "</style>\n",
       "<table border=\"1\" class=\"dataframe\">\n",
       "  <thead>\n",
       "    <tr style=\"text-align: right;\">\n",
       "      <th></th>\n",
       "      <th>id</th>\n",
       "      <th>rate</th>\n",
       "      <th>total_reviews</th>\n",
       "      <th>good</th>\n",
       "      <th>neutral</th>\n",
       "      <th>bad</th>\n",
       "    </tr>\n",
       "  </thead>\n",
       "  <tbody>\n",
       "    <tr>\n",
       "      <th>0</th>\n",
       "      <td>ae03aa67a4f811edb2c440b0760dd4ca</td>\n",
       "      <td>4.0</td>\n",
       "      <td>249.0</td>\n",
       "      <td>161</td>\n",
       "      <td>50</td>\n",
       "      <td>21</td>\n",
       "    </tr>\n",
       "    <tr>\n",
       "      <th>1</th>\n",
       "      <td>aee37234a4f811edb90840b0760dd4ca</td>\n",
       "      <td>4.4</td>\n",
       "      <td>491.0</td>\n",
       "      <td>400</td>\n",
       "      <td>83</td>\n",
       "      <td>29</td>\n",
       "    </tr>\n",
       "    <tr>\n",
       "      <th>2</th>\n",
       "      <td>b05fe082a4f811edadf040b0760dd4ca</td>\n",
       "      <td>4.3</td>\n",
       "      <td>194.0</td>\n",
       "      <td>137</td>\n",
       "      <td>43</td>\n",
       "      <td>10</td>\n",
       "    </tr>\n",
       "    <tr>\n",
       "      <th>3</th>\n",
       "      <td>b17de127a4f811eda70e40b0760dd4ca</td>\n",
       "      <td>4.5</td>\n",
       "      <td>264.0</td>\n",
       "      <td>239</td>\n",
       "      <td>35</td>\n",
       "      <td>13</td>\n",
       "    </tr>\n",
       "    <tr>\n",
       "      <th>4</th>\n",
       "      <td>b2a7ea13a4f811edb3e640b0760dd4ca</td>\n",
       "      <td>4.4</td>\n",
       "      <td>502.0</td>\n",
       "      <td>448</td>\n",
       "      <td>89</td>\n",
       "      <td>26</td>\n",
       "    </tr>\n",
       "    <tr>\n",
       "      <th>...</th>\n",
       "      <td>...</td>\n",
       "      <td>...</td>\n",
       "      <td>...</td>\n",
       "      <td>...</td>\n",
       "      <td>...</td>\n",
       "      <td>...</td>\n",
       "    </tr>\n",
       "    <tr>\n",
       "      <th>913</th>\n",
       "      <td>96477f4ea51911ed893640b0760dd4ca</td>\n",
       "      <td>0.0</td>\n",
       "      <td>NaN</td>\n",
       "      <td>0</td>\n",
       "      <td>0</td>\n",
       "      <td>0</td>\n",
       "    </tr>\n",
       "    <tr>\n",
       "      <th>914</th>\n",
       "      <td>97838181a51911ed8f6140b0760dd4ca</td>\n",
       "      <td>0.0</td>\n",
       "      <td>NaN</td>\n",
       "      <td>2</td>\n",
       "      <td>0</td>\n",
       "      <td>0</td>\n",
       "    </tr>\n",
       "    <tr>\n",
       "      <th>915</th>\n",
       "      <td>98f7a9eaa51911ed87fc40b0760dd4ca</td>\n",
       "      <td>0.0</td>\n",
       "      <td>NaN</td>\n",
       "      <td>3</td>\n",
       "      <td>0</td>\n",
       "      <td>0</td>\n",
       "    </tr>\n",
       "    <tr>\n",
       "      <th>916</th>\n",
       "      <td>9a9c6f77a51911ed9c5f40b0760dd4ca</td>\n",
       "      <td>0.0</td>\n",
       "      <td>NaN</td>\n",
       "      <td>0</td>\n",
       "      <td>0</td>\n",
       "      <td>0</td>\n",
       "    </tr>\n",
       "    <tr>\n",
       "      <th>917</th>\n",
       "      <td>9bae5447a51911ed83bc40b0760dd4ca</td>\n",
       "      <td>0.0</td>\n",
       "      <td>NaN</td>\n",
       "      <td>0</td>\n",
       "      <td>0</td>\n",
       "      <td>0</td>\n",
       "    </tr>\n",
       "  </tbody>\n",
       "</table>\n",
       "<p>918 rows × 6 columns</p>\n",
       "</div>"
      ],
      "text/plain": [
       "                                   id  rate  total_reviews  good  neutral  bad\n",
       "0    ae03aa67a4f811edb2c440b0760dd4ca   4.0          249.0   161       50   21\n",
       "1    aee37234a4f811edb90840b0760dd4ca   4.4          491.0   400       83   29\n",
       "2    b05fe082a4f811edadf040b0760dd4ca   4.3          194.0   137       43   10\n",
       "3    b17de127a4f811eda70e40b0760dd4ca   4.5          264.0   239       35   13\n",
       "4    b2a7ea13a4f811edb3e640b0760dd4ca   4.4          502.0   448       89   26\n",
       "..                                ...   ...            ...   ...      ...  ...\n",
       "913  96477f4ea51911ed893640b0760dd4ca   0.0            NaN     0        0    0\n",
       "914  97838181a51911ed8f6140b0760dd4ca   0.0            NaN     2        0    0\n",
       "915  98f7a9eaa51911ed87fc40b0760dd4ca   0.0            NaN     3        0    0\n",
       "916  9a9c6f77a51911ed9c5f40b0760dd4ca   0.0            NaN     0        0    0\n",
       "917  9bae5447a51911ed83bc40b0760dd4ca   0.0            NaN     0        0    0\n",
       "\n",
       "[918 rows x 6 columns]"
      ]
     },
     "execution_count": 7,
     "metadata": {},
     "output_type": "execute_result"
    }
   ],
   "source": [
    "pd = pd.read_sql(\"SELECT * FROM rates\", con)\n",
    "pd"
   ]
  },
  {
   "cell_type": "code",
   "execution_count": null,
   "metadata": {},
   "outputs": [],
   "source": []
  }
 ],
 "metadata": {
  "kernelspec": {
   "display_name": "Python 3",
   "language": "python",
   "name": "python3"
  },
  "language_info": {
   "codemirror_mode": {
    "name": "ipython",
    "version": 3
   },
   "file_extension": ".py",
   "mimetype": "text/x-python",
   "name": "python",
   "nbconvert_exporter": "python",
   "pygments_lexer": "ipython3",
   "version": "3.10.9"
  },
  "orig_nbformat": 4,
  "vscode": {
   "interpreter": {
    "hash": "e897f0676b185ac58fdef5d15caf12b36f55050acef5c3897f1ea1504ac8e199"
   }
  }
 },
 "nbformat": 4,
 "nbformat_minor": 2
}
