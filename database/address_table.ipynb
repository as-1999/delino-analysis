{
 "cells": [
  {
   "cell_type": "code",
   "execution_count": 2,
   "metadata": {},
   "outputs": [],
   "source": [
    "import pymysql\n",
    "import pandas as pd\n",
    "import os\n",
    "import json\n",
    "import mysql.connector"
   ]
  },
  {
   "cell_type": "code",
   "execution_count": 3,
   "metadata": {},
   "outputs": [],
   "source": [
    "con = pymysql.connect(\n",
    "    host = 'host_name',\n",
    "    user = 'user_name',\n",
    "    passwd = 'password',\n",
    "    db = 'db_name')\n",
    "cursor = con.cursor()"
   ]
  },
  {
   "cell_type": "code",
   "execution_count": 4,
   "metadata": {},
   "outputs": [],
   "source": [
    "file = os.path.abspath(\"new.json\")\n",
    "json_data = open(file).read()\n",
    "json_obj = json.loads(json_data)"
   ]
  },
  {
   "cell_type": "code",
   "execution_count": 4,
   "metadata": {},
   "outputs": [],
   "source": [
    "cursor.execute(\"CREATE TABLE IF NOT EXISTS address (id NVARCHAR(64), FOREIGN KEY (id) REFERENCES main(id), address NVARCHAR(255), latitude NVARCHAR(255), longitude NVARCHAR(255))\")"
   ]
  },
  {
   "cell_type": "code",
   "execution_count": 6,
   "metadata": {},
   "outputs": [],
   "source": [
    "for data_item in json_obj[\"items\"]:\n",
    "    id = data_item[\"id\"]\n",
    "    address = data_item[\"address\"]\n",
    "    latitude = data_item[\"coordinates\"][0]\n",
    "    longitude = data_item[\"coordinates\"][1]\n",
    "    cursor.execute(\"INSERT INTO address (id, address, latitude, longitude) VALUES (%s, %s, %s, %s)\", (id, address, latitude, longitude))\n",
    "\n",
    "con.commit()"
   ]
  },
  {
   "cell_type": "code",
   "execution_count": 5,
   "metadata": {},
   "outputs": [
    {
     "data": {
      "text/plain": [
       "(('address',), ('main',))"
      ]
     },
     "execution_count": 5,
     "metadata": {},
     "output_type": "execute_result"
    }
   ],
   "source": [
    "cursor.execute(\"SHOW TABLES\")\n",
    "cursor.fetchall()"
   ]
  },
  {
   "cell_type": "code",
   "execution_count": 7,
   "metadata": {},
   "outputs": [
    {
     "name": "stderr",
     "output_type": "stream",
     "text": [
      "C:\\Users\\Fazel\\AppData\\Local\\Temp\\ipykernel_7192\\2028917961.py:1: UserWarning: pandas only supports SQLAlchemy connectable (engine/connection) or database string URI or sqlite3 DBAPI2 connection. Other DBAPI2 objects are not tested. Please consider using SQLAlchemy.\n",
      "  pd = pd.read_sql(\"SELECT * FROM address\", con)\n"
     ]
    },
    {
     "data": {
      "text/html": [
       "<div>\n",
       "<style scoped>\n",
       "    .dataframe tbody tr th:only-of-type {\n",
       "        vertical-align: middle;\n",
       "    }\n",
       "\n",
       "    .dataframe tbody tr th {\n",
       "        vertical-align: top;\n",
       "    }\n",
       "\n",
       "    .dataframe thead th {\n",
       "        text-align: right;\n",
       "    }\n",
       "</style>\n",
       "<table border=\"1\" class=\"dataframe\">\n",
       "  <thead>\n",
       "    <tr style=\"text-align: right;\">\n",
       "      <th></th>\n",
       "      <th>id</th>\n",
       "      <th>address</th>\n",
       "      <th>latitude</th>\n",
       "      <th>longitude</th>\n",
       "    </tr>\n",
       "  </thead>\n",
       "  <tbody>\n",
       "    <tr>\n",
       "      <th>0</th>\n",
       "      <td>ae03aa67a4f811edb2c440b0760dd4ca</td>\n",
       "      <td>باغ فیض، خیابان 22بهمن، خیابان شهید ناطق نوری،...</td>\n",
       "      <td>35.74786338189138</td>\n",
       "      <td>51.32554292657006</td>\n",
       "    </tr>\n",
       "    <tr>\n",
       "      <th>1</th>\n",
       "      <td>aee37234a4f811edb90840b0760dd4ca</td>\n",
       "      <td>سعادت آباد، میدان کاج، مرکز تجاری ابریشم</td>\n",
       "      <td>35.782605888238145</td>\n",
       "      <td>51.37554645538331</td>\n",
       "    </tr>\n",
       "    <tr>\n",
       "      <th>2</th>\n",
       "      <td>b05fe082a4f811edadf040b0760dd4ca</td>\n",
       "      <td>مجیدیه شمالی، خیابان استاد حسن بنا،پایین تر از...</td>\n",
       "      <td>35.75292299120052</td>\n",
       "      <td>51.475244164466865</td>\n",
       "    </tr>\n",
       "    <tr>\n",
       "      <th>3</th>\n",
       "      <td>b17de127a4f811eda70e40b0760dd4ca</td>\n",
       "      <td>نیاوران، شمال کاخ نیاوران، خیابان پور ابتهاج، ...</td>\n",
       "      <td>35.81342832876107</td>\n",
       "      <td>51.47515833377838</td>\n",
       "    </tr>\n",
       "    <tr>\n",
       "      <th>4</th>\n",
       "      <td>b2a7ea13a4f811edb3e640b0760dd4ca</td>\n",
       "      <td>گیشا، نبش خیابان 31</td>\n",
       "      <td>35.737394853670054</td>\n",
       "      <td>51.37623846530914</td>\n",
       "    </tr>\n",
       "    <tr>\n",
       "      <th>...</th>\n",
       "      <td>...</td>\n",
       "      <td>...</td>\n",
       "      <td>...</td>\n",
       "      <td>...</td>\n",
       "    </tr>\n",
       "    <tr>\n",
       "      <th>913</th>\n",
       "      <td>96477f4ea51911ed893640b0760dd4ca</td>\n",
       "      <td>اراک، خیابان شریعتی، نبش کوچه بانک ملت</td>\n",
       "      <td>34.07767407439125</td>\n",
       "      <td>49.68883931636811</td>\n",
       "    </tr>\n",
       "    <tr>\n",
       "      <th>914</th>\n",
       "      <td>97838181a51911ed8f6140b0760dd4ca</td>\n",
       "      <td>اراک، خیابان شریعتی، نبش کوچه پامچال</td>\n",
       "      <td>34.07694749848257</td>\n",
       "      <td>49.69773637130857</td>\n",
       "    </tr>\n",
       "    <tr>\n",
       "      <th>915</th>\n",
       "      <td>98f7a9eaa51911ed87fc40b0760dd4ca</td>\n",
       "      <td>اراک، سه راه ابوذر، خیابان ابوذر، روبروی نانوا...</td>\n",
       "      <td>34.095735161192415</td>\n",
       "      <td>49.68299746513367</td>\n",
       "    </tr>\n",
       "    <tr>\n",
       "      <th>916</th>\n",
       "      <td>9a9c6f77a51911ed9c5f40b0760dd4ca</td>\n",
       "      <td>اراک-میدان امام حسین-جنب مسجد امام حسین</td>\n",
       "      <td>34.120777839741585</td>\n",
       "      <td>49.704162944108255</td>\n",
       "    </tr>\n",
       "    <tr>\n",
       "      <th>917</th>\n",
       "      <td>9bae5447a51911ed83bc40b0760dd4ca</td>\n",
       "      <td>اراک، خیابان شیرودی(خرم)، نبش کوچه مبارزان، جن...</td>\n",
       "      <td>34.07628100513921</td>\n",
       "      <td>49.702660907059915</td>\n",
       "    </tr>\n",
       "  </tbody>\n",
       "</table>\n",
       "<p>918 rows × 4 columns</p>\n",
       "</div>"
      ],
      "text/plain": [
       "                                   id  \\\n",
       "0    ae03aa67a4f811edb2c440b0760dd4ca   \n",
       "1    aee37234a4f811edb90840b0760dd4ca   \n",
       "2    b05fe082a4f811edadf040b0760dd4ca   \n",
       "3    b17de127a4f811eda70e40b0760dd4ca   \n",
       "4    b2a7ea13a4f811edb3e640b0760dd4ca   \n",
       "..                                ...   \n",
       "913  96477f4ea51911ed893640b0760dd4ca   \n",
       "914  97838181a51911ed8f6140b0760dd4ca   \n",
       "915  98f7a9eaa51911ed87fc40b0760dd4ca   \n",
       "916  9a9c6f77a51911ed9c5f40b0760dd4ca   \n",
       "917  9bae5447a51911ed83bc40b0760dd4ca   \n",
       "\n",
       "                                               address            latitude  \\\n",
       "0    باغ فیض، خیابان 22بهمن، خیابان شهید ناطق نوری،...   35.74786338189138   \n",
       "1             سعادت آباد، میدان کاج، مرکز تجاری ابریشم  35.782605888238145   \n",
       "2    مجیدیه شمالی، خیابان استاد حسن بنا،پایین تر از...   35.75292299120052   \n",
       "3    نیاوران، شمال کاخ نیاوران، خیابان پور ابتهاج، ...   35.81342832876107   \n",
       "4                                  گیشا، نبش خیابان 31  35.737394853670054   \n",
       "..                                                 ...                 ...   \n",
       "913             اراک، خیابان شریعتی، نبش کوچه بانک ملت   34.07767407439125   \n",
       "914               اراک، خیابان شریعتی، نبش کوچه پامچال   34.07694749848257   \n",
       "915  اراک، سه راه ابوذر، خیابان ابوذر، روبروی نانوا...  34.095735161192415   \n",
       "916            اراک-میدان امام حسین-جنب مسجد امام حسین  34.120777839741585   \n",
       "917  اراک، خیابان شیرودی(خرم)، نبش کوچه مبارزان، جن...   34.07628100513921   \n",
       "\n",
       "              longitude  \n",
       "0     51.32554292657006  \n",
       "1     51.37554645538331  \n",
       "2    51.475244164466865  \n",
       "3     51.47515833377838  \n",
       "4     51.37623846530914  \n",
       "..                  ...  \n",
       "913   49.68883931636811  \n",
       "914   49.69773637130857  \n",
       "915   49.68299746513367  \n",
       "916  49.704162944108255  \n",
       "917  49.702660907059915  \n",
       "\n",
       "[918 rows x 4 columns]"
      ]
     },
     "execution_count": 7,
     "metadata": {},
     "output_type": "execute_result"
    }
   ],
   "source": [
    "pd = pd.read_sql(\"SELECT * FROM address\", con)\n",
    "pd"
   ]
  }
 ],
 "metadata": {
  "kernelspec": {
   "display_name": "Python 3",
   "language": "python",
   "name": "python3"
  },
  "language_info": {
   "codemirror_mode": {
    "name": "ipython",
    "version": 3
   },
   "file_extension": ".py",
   "mimetype": "text/x-python",
   "name": "python",
   "nbconvert_exporter": "python",
   "pygments_lexer": "ipython3",
   "version": "3.10.9"
  },
  "orig_nbformat": 4,
  "vscode": {
   "interpreter": {
    "hash": "e897f0676b185ac58fdef5d15caf12b36f55050acef5c3897f1ea1504ac8e199"
   }
  }
 },
 "nbformat": 4,
 "nbformat_minor": 2
}
