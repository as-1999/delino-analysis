{
 "cells": [
  {
   "cell_type": "code",
   "execution_count": 11,
   "metadata": {},
   "outputs": [],
   "source": [
    "import pymysql\n",
    "import pandas as pd\n",
    "import os\n",
    "import json\n",
    "import mysql.connector"
   ]
  },
  {
   "cell_type": "code",
   "execution_count": 12,
   "metadata": {},
   "outputs": [],
   "source": [
    "config = {\n",
    "    \"user\" : \"user_name\",\n",
    "    \"host\" : \"host_name\",\n",
    "    \"password\" : \"password\",\n",
    "}\n",
    "\n",
    "cnx = mysql.connector.connect(**config)\n",
    "cursor = cnx.cursor()"
   ]
  },
  {
   "cell_type": "code",
   "execution_count": 3,
   "metadata": {},
   "outputs": [],
   "source": [
    "def create_database(cursor, DB_NAME):\n",
    "    try:\n",
    "        cursor.execute(f\"CREATE DATABASE {DB_NAME} DEFAULT CHARACTER SET 'utf8'\")\n",
    "\n",
    "    except mysql.connector.Error as err:\n",
    "        print(f\"Failed creating database: {err}\")  "
   ]
  },
  {
   "cell_type": "code",
   "execution_count": 4,
   "metadata": {},
   "outputs": [
    {
     "name": "stdout",
     "output_type": "stream",
     "text": [
      "Failed creating database: 1007 (HY000): Can't create database 'delino_test'; database exists\n"
     ]
    }
   ],
   "source": [
    "create_database(cursor, \"delino_test\")"
   ]
  },
  {
   "cell_type": "code",
   "execution_count": 13,
   "metadata": {},
   "outputs": [],
   "source": [
    "con = pymysql.connect(\n",
    "    host = 'host_name',\n",
    "    user = 'user_name',\n",
    "    passwd = 'password',\n",
    "    db = 'db_name')\n",
    "cursor = con.cursor()"
   ]
  },
  {
   "cell_type": "code",
   "execution_count": 14,
   "metadata": {},
   "outputs": [],
   "source": [
    "file = os.path.abspath(\"new.json\")\n",
    "json_data = open(file).read()\n",
    "json_obj = json.loads(json_data)"
   ]
  },
  {
   "cell_type": "code",
   "execution_count": 7,
   "metadata": {},
   "outputs": [
    {
     "data": {
      "text/plain": [
       "0"
      ]
     },
     "execution_count": 7,
     "metadata": {},
     "output_type": "execute_result"
    }
   ],
   "source": [
    "cursor.execute(\"CREATE TABLE IF NOT EXISTS main (id NVARCHAR(64) PRIMARY KEY, title NVARCHAR(255), city NVARCHAR(255), district NVARCHAR(255), delivery_time NVARCHAR(255), link NVARCHAR(255))\")"
   ]
  },
  {
   "cell_type": "code",
   "execution_count": 8,
   "metadata": {},
   "outputs": [],
   "source": [
    "for data_item in json_obj[\"items\"]:\n",
    "    id = data_item[\"id\"]\n",
    "    title = data_item[\"title\"]\n",
    "    city = data_item[\"city\"]\n",
    "    district = data_item[\"district\"]\n",
    "    delivery_time = data_item[\"delivery_time\"]\n",
    "    link = data_item[\"link\"]\n",
    "    cursor.execute(\"INSERT INTO main (id, title, city, district, delivery_time, link) VALUES (%s, %s, %s, %s, %s, %s)\", (id, title, city, district, delivery_time, link))\n",
    "\n",
    "con.commit()"
   ]
  },
  {
   "cell_type": "code",
   "execution_count": 15,
   "metadata": {},
   "outputs": [
    {
     "data": {
      "text/plain": [
       "(('address',), ('main',))"
      ]
     },
     "execution_count": 15,
     "metadata": {},
     "output_type": "execute_result"
    }
   ],
   "source": [
    "cursor.execute(\"SHOW TABLES\")\n",
    "cursor.fetchall()"
   ]
  },
  {
   "cell_type": "code",
   "execution_count": 16,
   "metadata": {},
   "outputs": [
    {
     "name": "stderr",
     "output_type": "stream",
     "text": [
      "C:\\Users\\Fazel\\AppData\\Local\\Temp\\ipykernel_13044\\2033937415.py:1: UserWarning: pandas only supports SQLAlchemy connectable (engine/connection) or database string URI or sqlite3 DBAPI2 connection. Other DBAPI2 objects are not tested. Please consider using SQLAlchemy.\n",
      "  pd = pd.read_sql(\"SELECT * FROM main\", con)\n"
     ]
    },
    {
     "data": {
      "text/html": [
       "<div>\n",
       "<style scoped>\n",
       "    .dataframe tbody tr th:only-of-type {\n",
       "        vertical-align: middle;\n",
       "    }\n",
       "\n",
       "    .dataframe tbody tr th {\n",
       "        vertical-align: top;\n",
       "    }\n",
       "\n",
       "    .dataframe thead th {\n",
       "        text-align: right;\n",
       "    }\n",
       "</style>\n",
       "<table border=\"1\" class=\"dataframe\">\n",
       "  <thead>\n",
       "    <tr style=\"text-align: right;\">\n",
       "      <th></th>\n",
       "      <th>id</th>\n",
       "      <th>title</th>\n",
       "      <th>city</th>\n",
       "      <th>district</th>\n",
       "      <th>delivery_time</th>\n",
       "      <th>link</th>\n",
       "    </tr>\n",
       "  </thead>\n",
       "  <tbody>\n",
       "    <tr>\n",
       "      <th>0</th>\n",
       "      <td>0096648ba51711ed984a40b0760dd4ca</td>\n",
       "      <td>فست فود نوید اهوازی</td>\n",
       "      <td>گرگان</td>\n",
       "      <td>میدان سرخواجه</td>\n",
       "      <td>20 _ 40 میانگین زمان ارسال</td>\n",
       "      <td>https://www.delino.com/restaurant/navid-ahvazi</td>\n",
       "    </tr>\n",
       "    <tr>\n",
       "      <th>1</th>\n",
       "      <td>00997503a50e11ed85c140b0760dd4ca</td>\n",
       "      <td>آبمیوه و بستنی تو دلیا</td>\n",
       "      <td>کرج</td>\n",
       "      <td>فردیس</td>\n",
       "      <td>30 _ 50 میانگین زمان ارسال</td>\n",
       "      <td>https://www.delino.com/restaurant/toodeliya</td>\n",
       "    </tr>\n",
       "    <tr>\n",
       "      <th>2</th>\n",
       "      <td>00e382b8a4f911edab6740b0760dd4ca</td>\n",
       "      <td>فست فود پیلوت</td>\n",
       "      <td>تهران</td>\n",
       "      <td>پونک</td>\n",
       "      <td>25 _ 50 میانگین زمان ارسال</td>\n",
       "      <td>https://www.delino.com/restaurant/piloot</td>\n",
       "    </tr>\n",
       "    <tr>\n",
       "      <th>3</th>\n",
       "      <td>017cc0cfa4fa11edb9ec40b0760dd4ca</td>\n",
       "      <td>فست فود باما (باجک)</td>\n",
       "      <td>قم</td>\n",
       "      <td>باجک 1</td>\n",
       "      <td>35 _ 45 میانگین زمان ارسال</td>\n",
       "      <td>https://www.delino.com/restaurant/bama1</td>\n",
       "    </tr>\n",
       "    <tr>\n",
       "      <th>4</th>\n",
       "      <td>01c682f8a4f911ed867140b0760dd4ca</td>\n",
       "      <td>رستوران گلزار</td>\n",
       "      <td>تهران</td>\n",
       "      <td>نواب</td>\n",
       "      <td>40 _ 60 میانگین زمان ارسال</td>\n",
       "      <td>https://www.delino.com/restaurant/golzar</td>\n",
       "    </tr>\n",
       "    <tr>\n",
       "      <th>...</th>\n",
       "      <td>...</td>\n",
       "      <td>...</td>\n",
       "      <td>...</td>\n",
       "      <td>...</td>\n",
       "      <td>...</td>\n",
       "      <td>...</td>\n",
       "    </tr>\n",
       "    <tr>\n",
       "      <th>913</th>\n",
       "      <td>ffa40fafa51511ed8c1540b0760dd4ca</td>\n",
       "      <td>فست فود رافل</td>\n",
       "      <td>کرج</td>\n",
       "      <td>گوهردشت خیابان 13</td>\n",
       "      <td>20 _ 40 میانگین زمان ارسال</td>\n",
       "      <td>https://www.delino.com/restaurant/rafel-fastfood</td>\n",
       "    </tr>\n",
       "    <tr>\n",
       "      <th>914</th>\n",
       "      <td>ffaedbb5a4f911ed9ef840b0760dd4ca</td>\n",
       "      <td>فست فود باما (دستغیب)</td>\n",
       "      <td>قم</td>\n",
       "      <td>میدان دستغیب</td>\n",
       "      <td>35 _ 45 میانگین زمان ارسال</td>\n",
       "      <td>https://www.delino.com/restaurant/bama2</td>\n",
       "    </tr>\n",
       "    <tr>\n",
       "      <th>915</th>\n",
       "      <td>ffb5971ba51811ed92a640b0760dd4ca</td>\n",
       "      <td>---</td>\n",
       "      <td>ارومیه</td>\n",
       "      <td>خیابان میرداماد</td>\n",
       "      <td>30 _ 50 میانگین زمان ارسال</td>\n",
       "      <td>https://www.delino.com/restaurant/khanomjan</td>\n",
       "    </tr>\n",
       "    <tr>\n",
       "      <th>916</th>\n",
       "      <td>ffbcaad9a4f811ed8c9740b0760dd4ca</td>\n",
       "      <td>رستوران نمونه تهران</td>\n",
       "      <td>تهران</td>\n",
       "      <td>محمد علی جناح</td>\n",
       "      <td>30 _ 55 میانگین زمان ارسال</td>\n",
       "      <td>https://www.delino.com/restaurant/nemoneh-tehran</td>\n",
       "    </tr>\n",
       "    <tr>\n",
       "      <th>917</th>\n",
       "      <td>fff7e2eca51711eda65440b0760dd4ca</td>\n",
       "      <td>بیرون‌بر مطبخ</td>\n",
       "      <td>یزد</td>\n",
       "      <td>بلوار عابدی</td>\n",
       "      <td>25 _ 50 میانگین زمان ارسال</td>\n",
       "      <td>https://www.delino.com/restaurant/matbakhfood</td>\n",
       "    </tr>\n",
       "  </tbody>\n",
       "</table>\n",
       "<p>918 rows × 6 columns</p>\n",
       "</div>"
      ],
      "text/plain": [
       "                                   id                   title    city  \\\n",
       "0    0096648ba51711ed984a40b0760dd4ca     فست فود نوید اهوازی   گرگان   \n",
       "1    00997503a50e11ed85c140b0760dd4ca  آبمیوه و بستنی تو دلیا     کرج   \n",
       "2    00e382b8a4f911edab6740b0760dd4ca           فست فود پیلوت   تهران   \n",
       "3    017cc0cfa4fa11edb9ec40b0760dd4ca     فست فود باما (باجک)      قم   \n",
       "4    01c682f8a4f911ed867140b0760dd4ca           رستوران گلزار   تهران   \n",
       "..                                ...                     ...     ...   \n",
       "913  ffa40fafa51511ed8c1540b0760dd4ca            فست فود رافل     کرج   \n",
       "914  ffaedbb5a4f911ed9ef840b0760dd4ca   فست فود باما (دستغیب)      قم   \n",
       "915  ffb5971ba51811ed92a640b0760dd4ca                     ---  ارومیه   \n",
       "916  ffbcaad9a4f811ed8c9740b0760dd4ca     رستوران نمونه تهران   تهران   \n",
       "917  fff7e2eca51711eda65440b0760dd4ca           بیرون‌بر مطبخ     یزد   \n",
       "\n",
       "              district               delivery_time  \\\n",
       "0        میدان سرخواجه  20 _ 40 میانگین زمان ارسال   \n",
       "1                فردیس  30 _ 50 میانگین زمان ارسال   \n",
       "2                 پونک  25 _ 50 میانگین زمان ارسال   \n",
       "3               باجک 1  35 _ 45 میانگین زمان ارسال   \n",
       "4                 نواب  40 _ 60 میانگین زمان ارسال   \n",
       "..                 ...                         ...   \n",
       "913  گوهردشت خیابان 13  20 _ 40 میانگین زمان ارسال   \n",
       "914       میدان دستغیب  35 _ 45 میانگین زمان ارسال   \n",
       "915    خیابان میرداماد  30 _ 50 میانگین زمان ارسال   \n",
       "916      محمد علی جناح  30 _ 55 میانگین زمان ارسال   \n",
       "917        بلوار عابدی  25 _ 50 میانگین زمان ارسال   \n",
       "\n",
       "                                                 link  \n",
       "0      https://www.delino.com/restaurant/navid-ahvazi  \n",
       "1         https://www.delino.com/restaurant/toodeliya  \n",
       "2            https://www.delino.com/restaurant/piloot  \n",
       "3             https://www.delino.com/restaurant/bama1  \n",
       "4            https://www.delino.com/restaurant/golzar  \n",
       "..                                                ...  \n",
       "913  https://www.delino.com/restaurant/rafel-fastfood  \n",
       "914           https://www.delino.com/restaurant/bama2  \n",
       "915       https://www.delino.com/restaurant/khanomjan  \n",
       "916  https://www.delino.com/restaurant/nemoneh-tehran  \n",
       "917     https://www.delino.com/restaurant/matbakhfood  \n",
       "\n",
       "[918 rows x 6 columns]"
      ]
     },
     "execution_count": 16,
     "metadata": {},
     "output_type": "execute_result"
    }
   ],
   "source": [
    "pd = pd.read_sql(\"SELECT * FROM main\", con)\n",
    "pd"
   ]
  },
  {
   "cell_type": "code",
   "execution_count": null,
   "metadata": {},
   "outputs": [],
   "source": []
  }
 ],
 "metadata": {
  "kernelspec": {
   "display_name": "Python 3",
   "language": "python",
   "name": "python3"
  },
  "language_info": {
   "codemirror_mode": {
    "name": "ipython",
    "version": 3
   },
   "file_extension": ".py",
   "mimetype": "text/x-python",
   "name": "python",
   "nbconvert_exporter": "python",
   "pygments_lexer": "ipython3",
   "version": "3.10.9"
  },
  "orig_nbformat": 4,
  "vscode": {
   "interpreter": {
    "hash": "e897f0676b185ac58fdef5d15caf12b36f55050acef5c3897f1ea1504ac8e199"
   }
  }
 },
 "nbformat": 4,
 "nbformat_minor": 2
}
