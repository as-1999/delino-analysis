{
 "cells": [
  {
   "cell_type": "code",
   "execution_count": 2,
   "metadata": {},
   "outputs": [],
   "source": [
    "import os\n",
    "import json"
   ]
  },
  {
   "cell_type": "code",
   "execution_count": 3,
   "metadata": {},
   "outputs": [],
   "source": [
    "file = os.path.abspath(\"new.json\")\n",
    "json_data = open(file).read()\n",
    "json_obj = json.loads(json_data)"
   ]
  },
  {
   "cell_type": "code",
   "execution_count": 4,
   "metadata": {},
   "outputs": [],
   "source": [
    "all = []\n",
    "for item in json_obj[\"items\"]:\n",
    "    for types in item[\"types\"]:\n",
    "        all.append(types)\n",
    "\n",
    "all = set(all)   "
   ]
  },
  {
   "cell_type": "code",
   "execution_count": 5,
   "metadata": {},
   "outputs": [
    {
     "data": {
      "text/plain": [
       "{'آسیای شرقی',\n",
       " 'ایتالیایی',\n",
       " 'بوفه غذا',\n",
       " 'بین الملل',\n",
       " 'دونر کباب',\n",
       " 'ساندویچ',\n",
       " 'سفره خانه',\n",
       " 'طباخی',\n",
       " 'غذاهای سالم و گیاهی',\n",
       " 'غذای ایرانی',\n",
       " 'غذای خاص',\n",
       " 'غذای دریایی',\n",
       " 'غذای فرنگی',\n",
       " 'فرانسوی',\n",
       " 'فست فود',\n",
       " 'فودکورت',\n",
       " 'لبنانی',\n",
       " 'مرغ سوخاری',\n",
       " 'مکزیکی',\n",
       " 'هندی',\n",
       " 'پیتزا',\n",
       " 'پیتزا ساندویچ',\n",
       " 'چینی',\n",
       " 'ژاپنی',\n",
       " 'کافی شاپ',\n",
       " 'کباب ترکی',\n",
       " 'کبابی یا جگرکی',\n",
       " 'گریل',\n",
       " 'گیلکی'}"
      ]
     },
     "execution_count": 5,
     "metadata": {},
     "output_type": "execute_result"
    }
   ],
   "source": [
    "all"
   ]
  }
 ],
 "metadata": {
  "kernelspec": {
   "display_name": "Python 3",
   "language": "python",
   "name": "python3"
  },
  "language_info": {
   "codemirror_mode": {
    "name": "ipython",
    "version": 3
   },
   "file_extension": ".py",
   "mimetype": "text/x-python",
   "name": "python",
   "nbconvert_exporter": "python",
   "pygments_lexer": "ipython3",
   "version": "3.10.9"
  },
  "orig_nbformat": 4,
  "vscode": {
   "interpreter": {
    "hash": "e897f0676b185ac58fdef5d15caf12b36f55050acef5c3897f1ea1504ac8e199"
   }
  }
 },
 "nbformat": 4,
 "nbformat_minor": 2
}
